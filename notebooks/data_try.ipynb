{
 "cells": [
  {
   "cell_type": "code",
   "execution_count": 8,
   "metadata": {},
   "outputs": [
    {
     "name": "stderr",
     "output_type": "stream",
     "text": [
      "Generating train split: 100%|██████████| 11572/11572 [00:03<00:00, 3691.35 examples/s]\n",
      "Generating test split: 100%|██████████| 824/824 [00:00<00:00, 4127.51 examples/s]"
     ]
    },
    {
     "name": "stdout",
     "output_type": "stream",
     "text": [
      "Dataset contains: ['train', 'test']\n",
      "Split 'train' contains 11572 examples\n",
      "Features: {'id': Value(dtype='string', id=None), 'clean': Audio(sampling_rate=16000, mono=True, decode=True, id=None), 'noisy': Audio(sampling_rate=16000, mono=True, decode=True, id=None)}\n",
      "Split 'test' contains 824 examples\n",
      "Features: {'id': Value(dtype='string', id=None), 'clean': Audio(sampling_rate=16000, mono=True, decode=True, id=None), 'noisy': Audio(sampling_rate=16000, mono=True, decode=True, id=None)}\n"
     ]
    },
    {
     "name": "stderr",
     "output_type": "stream",
     "text": [
      "\n"
     ]
    }
   ],
   "source": [
    "from datasets import load_dataset\n",
    "import os\n",
    "\n",
    "# Create a local directory to store the dataset\n",
    "local_dataset_dir = \"./local_datasets\"\n",
    "os.makedirs(local_dataset_dir, exist_ok=True)\n",
    "\n",
    "# Download the dataset to the local directory\n",
    "ds = load_dataset(\"JacobLinCool/VoiceBank-DEMAND-16k\", cache_dir=local_dataset_dir)\n",
    "\n",
    "# Verify the dataset structure\n",
    "print(f\"Dataset contains: {list(ds.keys())}\")\n",
    "for split, dataset in ds.items():\n",
    "    print(f\"Split '{split}' contains {len(dataset)} examples\")\n",
    "    print(f\"Features: {dataset.features}\")"
   ]
  },
  {
   "cell_type": "code",
   "execution_count": null,
   "metadata": {},
   "outputs": [],
   "source": []
  }
 ],
 "metadata": {
  "kernelspec": {
   "display_name": "COMP5412",
   "language": "python",
   "name": "python3"
  },
  "language_info": {
   "codemirror_mode": {
    "name": "ipython",
    "version": 3
   },
   "file_extension": ".py",
   "mimetype": "text/x-python",
   "name": "python",
   "nbconvert_exporter": "python",
   "pygments_lexer": "ipython3",
   "version": "3.11.11"
  }
 },
 "nbformat": 4,
 "nbformat_minor": 2
}
